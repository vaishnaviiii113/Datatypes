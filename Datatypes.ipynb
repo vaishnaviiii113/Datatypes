{
 "cells": [
  {
   "cell_type": "markdown",
   "id": "df4ab226",
   "metadata": {},
   "source": [
    "# DATATYPES"
   ]
  },
  {
   "cell_type": "markdown",
   "id": "687e87de",
   "metadata": {},
   "source": [
    "# STRING"
   ]
  },
  {
   "cell_type": "markdown",
   "id": "dfa21b64",
   "metadata": {},
   "source": [
    "Operations:"
   ]
  },
  {
   "cell_type": "markdown",
   "id": "23323b63",
   "metadata": {},
   "source": [
    "a)Concatenation"
   ]
  },
  {
   "cell_type": "code",
   "execution_count": 1,
   "id": "6ef5c1e0",
   "metadata": {},
   "outputs": [],
   "source": [
    "x = \"Hey! GoodMorning...\"\n",
    "\n",
    "y= \"How you doing?\""
   ]
  },
  {
   "cell_type": "code",
   "execution_count": 2,
   "id": "f84e0cb0",
   "metadata": {},
   "outputs": [
    {
     "data": {
      "text/plain": [
       "'Hey! GoodMorning...How you doing?'"
      ]
     },
     "execution_count": 2,
     "metadata": {},
     "output_type": "execute_result"
    }
   ],
   "source": [
    "x+y"
   ]
  },
  {
   "cell_type": "markdown",
   "id": "ae7f715b",
   "metadata": {},
   "source": [
    "b)Replication"
   ]
  },
  {
   "cell_type": "code",
   "execution_count": 3,
   "id": "679938d7",
   "metadata": {},
   "outputs": [
    {
     "data": {
      "text/plain": [
       "'Hey Hey Hey '"
      ]
     },
     "execution_count": 3,
     "metadata": {},
     "output_type": "execute_result"
    }
   ],
   "source": [
    "x = \"Hey\"\n",
    "\n",
    "((x+\" \") *3)"
   ]
  },
  {
   "cell_type": "markdown",
   "id": "bcb0a709",
   "metadata": {},
   "source": [
    "c)Indexing"
   ]
  },
  {
   "cell_type": "code",
   "execution_count": 4,
   "id": "11130e67",
   "metadata": {},
   "outputs": [
    {
     "data": {
      "text/plain": [
       "'a'"
      ]
     },
     "execution_count": 4,
     "metadata": {},
     "output_type": "execute_result"
    }
   ],
   "source": [
    "x = \"Can we meet?\"\n",
    "\n",
    "x[1]"
   ]
  },
  {
   "cell_type": "code",
   "execution_count": 5,
   "id": "50374463",
   "metadata": {},
   "outputs": [
    {
     "data": {
      "text/plain": [
       "' '"
      ]
     },
     "execution_count": 5,
     "metadata": {},
     "output_type": "execute_result"
    }
   ],
   "source": [
    "x[6]"
   ]
  },
  {
   "cell_type": "code",
   "execution_count": 6,
   "id": "11456cda",
   "metadata": {},
   "outputs": [
    {
     "data": {
      "text/plain": [
       "'e'"
      ]
     },
     "execution_count": 6,
     "metadata": {},
     "output_type": "execute_result"
    }
   ],
   "source": [
    "x[9]"
   ]
  },
  {
   "cell_type": "markdown",
   "id": "857098a6",
   "metadata": {},
   "source": [
    "d)Slicing"
   ]
  },
  {
   "cell_type": "code",
   "execution_count": 7,
   "id": "139ecb00",
   "metadata": {},
   "outputs": [
    {
     "data": {
      "text/plain": [
       "' m'"
      ]
     },
     "execution_count": 7,
     "metadata": {},
     "output_type": "execute_result"
    }
   ],
   "source": [
    "x[6:8]"
   ]
  },
  {
   "cell_type": "code",
   "execution_count": 8,
   "id": "bc4aab4c",
   "metadata": {},
   "outputs": [
    {
     "data": {
      "text/plain": [
       "'an we me'"
      ]
     },
     "execution_count": 8,
     "metadata": {},
     "output_type": "execute_result"
    }
   ],
   "source": [
    "x[1:9]"
   ]
  },
  {
   "cell_type": "markdown",
   "id": "b54aace7",
   "metadata": {},
   "source": [
    "Methods"
   ]
  },
  {
   "cell_type": "markdown",
   "id": "26f5fe37",
   "metadata": {},
   "source": [
    "1)Find"
   ]
  },
  {
   "cell_type": "code",
   "execution_count": 9,
   "id": "83a89eea",
   "metadata": {},
   "outputs": [
    {
     "data": {
      "text/plain": [
       "-1"
      ]
     },
     "execution_count": 9,
     "metadata": {},
     "output_type": "execute_result"
    }
   ],
   "source": [
    "x = \"i want to say something...\"\n",
    "\n",
    "x.find(\"I\")"
   ]
  },
  {
   "cell_type": "code",
   "execution_count": 10,
   "id": "3dfa7074",
   "metadata": {},
   "outputs": [
    {
     "data": {
      "text/plain": [
       "10"
      ]
     },
     "execution_count": 10,
     "metadata": {},
     "output_type": "execute_result"
    }
   ],
   "source": [
    "x.find(\"say\")"
   ]
  },
  {
   "cell_type": "code",
   "execution_count": 11,
   "id": "8c19de95",
   "metadata": {},
   "outputs": [
    {
     "data": {
      "text/plain": [
       "1"
      ]
     },
     "execution_count": 11,
     "metadata": {},
     "output_type": "execute_result"
    }
   ],
   "source": [
    "x.find(\" \")"
   ]
  },
  {
   "cell_type": "markdown",
   "id": "89e61d65",
   "metadata": {},
   "source": [
    "2)Upper"
   ]
  },
  {
   "cell_type": "code",
   "execution_count": 12,
   "id": "ff9268f7",
   "metadata": {},
   "outputs": [
    {
     "data": {
      "text/plain": [
       "'I WANT TO SAY SOMETHING...'"
      ]
     },
     "execution_count": 12,
     "metadata": {},
     "output_type": "execute_result"
    }
   ],
   "source": [
    "x.upper()"
   ]
  },
  {
   "cell_type": "markdown",
   "id": "b046a74f",
   "metadata": {},
   "source": [
    "3)Lower"
   ]
  },
  {
   "cell_type": "code",
   "execution_count": 13,
   "id": "b2f0be0c",
   "metadata": {},
   "outputs": [
    {
     "data": {
      "text/plain": [
       "'i want to say something...'"
      ]
     },
     "execution_count": 13,
     "metadata": {},
     "output_type": "execute_result"
    }
   ],
   "source": [
    "x.lower()"
   ]
  },
  {
   "cell_type": "markdown",
   "id": "10ce73da",
   "metadata": {},
   "source": [
    "4)Capitalize"
   ]
  },
  {
   "cell_type": "code",
   "execution_count": 14,
   "id": "a2626ee6",
   "metadata": {},
   "outputs": [
    {
     "data": {
      "text/plain": [
       "'I want to say something...'"
      ]
     },
     "execution_count": 14,
     "metadata": {},
     "output_type": "execute_result"
    }
   ],
   "source": [
    "x.capitalize()"
   ]
  },
  {
   "cell_type": "markdown",
   "id": "c2f98199",
   "metadata": {},
   "source": [
    "5)Title"
   ]
  },
  {
   "cell_type": "code",
   "execution_count": 15,
   "id": "609125bc",
   "metadata": {},
   "outputs": [
    {
     "data": {
      "text/plain": [
       "'I Want To Say Something...'"
      ]
     },
     "execution_count": 15,
     "metadata": {},
     "output_type": "execute_result"
    }
   ],
   "source": [
    "x.title()"
   ]
  },
  {
   "cell_type": "markdown",
   "id": "a9843be9",
   "metadata": {},
   "source": [
    "6) Swapcase"
   ]
  },
  {
   "cell_type": "code",
   "execution_count": 16,
   "id": "00637e89",
   "metadata": {},
   "outputs": [
    {
     "data": {
      "text/plain": [
       "'tHoUsAND yEaRS'"
      ]
     },
     "execution_count": 16,
     "metadata": {},
     "output_type": "execute_result"
    }
   ],
   "source": [
    "x = \"ThOuSand YeArs\"\n",
    "\n",
    "x.swapcase()"
   ]
  },
  {
   "cell_type": "markdown",
   "id": "b88b1b1c",
   "metadata": {},
   "source": [
    "7)Replace"
   ]
  },
  {
   "cell_type": "code",
   "execution_count": 17,
   "id": "65eee0b8",
   "metadata": {},
   "outputs": [
    {
     "data": {
      "text/plain": [
       "'i want to eat something...'"
      ]
     },
     "execution_count": 17,
     "metadata": {},
     "output_type": "execute_result"
    }
   ],
   "source": [
    "x = \"i want to say something...\"\n",
    "x.replace (\"say\", \"eat\")"
   ]
  },
  {
   "cell_type": "markdown",
   "id": "73d45158",
   "metadata": {},
   "source": [
    "8)Count"
   ]
  },
  {
   "cell_type": "code",
   "execution_count": 18,
   "id": "52a492fb",
   "metadata": {},
   "outputs": [
    {
     "data": {
      "text/plain": [
       "2"
      ]
     },
     "execution_count": 18,
     "metadata": {},
     "output_type": "execute_result"
    }
   ],
   "source": [
    "x.count(\"a\")"
   ]
  },
  {
   "cell_type": "code",
   "execution_count": 19,
   "id": "acadc969",
   "metadata": {},
   "outputs": [
    {
     "data": {
      "text/plain": [
       "2"
      ]
     },
     "execution_count": 19,
     "metadata": {},
     "output_type": "execute_result"
    }
   ],
   "source": [
    "x.count(\"i\")"
   ]
  },
  {
   "cell_type": "code",
   "execution_count": 20,
   "id": "6e5f8819",
   "metadata": {},
   "outputs": [
    {
     "data": {
      "text/plain": [
       "3"
      ]
     },
     "execution_count": 20,
     "metadata": {},
     "output_type": "execute_result"
    }
   ],
   "source": [
    "x.count(\"t\")"
   ]
  },
  {
   "cell_type": "markdown",
   "id": "9209fce8",
   "metadata": {},
   "source": [
    "9)Split"
   ]
  },
  {
   "cell_type": "code",
   "execution_count": 21,
   "id": "fd8cf40d",
   "metadata": {},
   "outputs": [
    {
     "data": {
      "text/plain": [
       "['i', 'want', 'to', 'say', 'something...']"
      ]
     },
     "execution_count": 21,
     "metadata": {},
     "output_type": "execute_result"
    }
   ],
   "source": [
    "x.split()"
   ]
  },
  {
   "cell_type": "markdown",
   "id": "47d29d9a",
   "metadata": {},
   "source": [
    "10)Startswith"
   ]
  },
  {
   "cell_type": "code",
   "execution_count": 22,
   "id": "48a5feac",
   "metadata": {},
   "outputs": [
    {
     "data": {
      "text/plain": [
       "False"
      ]
     },
     "execution_count": 22,
     "metadata": {},
     "output_type": "execute_result"
    }
   ],
   "source": [
    "x.startswith(\"a\")"
   ]
  },
  {
   "cell_type": "code",
   "execution_count": 23,
   "id": "84c92462",
   "metadata": {},
   "outputs": [
    {
     "data": {
      "text/plain": [
       "True"
      ]
     },
     "execution_count": 23,
     "metadata": {},
     "output_type": "execute_result"
    }
   ],
   "source": [
    "x.startswith(\"i\")"
   ]
  },
  {
   "cell_type": "markdown",
   "id": "f3e35375",
   "metadata": {},
   "source": [
    "11)Endswith"
   ]
  },
  {
   "cell_type": "code",
   "execution_count": 24,
   "id": "a320c2fc",
   "metadata": {},
   "outputs": [
    {
     "data": {
      "text/plain": [
       "False"
      ]
     },
     "execution_count": 24,
     "metadata": {},
     "output_type": "execute_result"
    }
   ],
   "source": [
    "x.endswith(\"i\")"
   ]
  },
  {
   "cell_type": "code",
   "execution_count": 25,
   "id": "bfc122ed",
   "metadata": {},
   "outputs": [
    {
     "data": {
      "text/plain": [
       "False"
      ]
     },
     "execution_count": 25,
     "metadata": {},
     "output_type": "execute_result"
    }
   ],
   "source": [
    "x.endswith(\"g\")"
   ]
  },
  {
   "cell_type": "code",
   "execution_count": 26,
   "id": "1f13bfd0",
   "metadata": {},
   "outputs": [
    {
     "data": {
      "text/plain": [
       "True"
      ]
     },
     "execution_count": 26,
     "metadata": {},
     "output_type": "execute_result"
    }
   ],
   "source": [
    "x.endswith(\"...\")"
   ]
  },
  {
   "cell_type": "markdown",
   "id": "db6212eb",
   "metadata": {},
   "source": [
    "12)rstrip"
   ]
  },
  {
   "cell_type": "code",
   "execution_count": 27,
   "id": "b9b21835",
   "metadata": {},
   "outputs": [
    {
     "data": {
      "text/plain": [
       "'     i want to say something...'"
      ]
     },
     "execution_count": 27,
     "metadata": {},
     "output_type": "execute_result"
    }
   ],
   "source": [
    "x = \"     i want to say something...         \"\n",
    "\n",
    "x.rstrip()"
   ]
  },
  {
   "cell_type": "markdown",
   "id": "fa93ab8f",
   "metadata": {},
   "source": [
    "13)lstrip"
   ]
  },
  {
   "cell_type": "code",
   "execution_count": 28,
   "id": "5c099e00",
   "metadata": {},
   "outputs": [
    {
     "data": {
      "text/plain": [
       "'i want to say something...         '"
      ]
     },
     "execution_count": 28,
     "metadata": {},
     "output_type": "execute_result"
    }
   ],
   "source": [
    "x = \"     i want to say something...         \"\n",
    "\n",
    "x.lstrip()"
   ]
  },
  {
   "cell_type": "markdown",
   "id": "ea895f29",
   "metadata": {},
   "source": [
    "14)strip"
   ]
  },
  {
   "cell_type": "code",
   "execution_count": 29,
   "id": "98d4d7de",
   "metadata": {},
   "outputs": [
    {
     "data": {
      "text/plain": [
       "'i want to say something...'"
      ]
     },
     "execution_count": 29,
     "metadata": {},
     "output_type": "execute_result"
    }
   ],
   "source": [
    "x = \"     i want to say something...         \"\n",
    "\n",
    "x.strip()"
   ]
  },
  {
   "cell_type": "markdown",
   "id": "d208de74",
   "metadata": {},
   "source": [
    "15)Join"
   ]
  },
  {
   "cell_type": "code",
   "execution_count": 30,
   "id": "7d4c336b",
   "metadata": {},
   "outputs": [
    {
     "data": {
      "text/plain": [
       "'i| |w|a|n|t| |t|o| |s|a|y| |s|o|m|e|t|h|i|n|g|.|.|.'"
      ]
     },
     "execution_count": 30,
     "metadata": {},
     "output_type": "execute_result"
    }
   ],
   "source": [
    "x = \"|\"\n",
    "y = \"i want to say something...\"\n",
    "\n",
    "x.join(y)"
   ]
  },
  {
   "cell_type": "markdown",
   "id": "b176c604",
   "metadata": {},
   "source": [
    "16)Center"
   ]
  },
  {
   "cell_type": "code",
   "execution_count": 31,
   "id": "0f77261c",
   "metadata": {},
   "outputs": [
    {
     "data": {
      "text/plain": [
       "'            i want to say something...            '"
      ]
     },
     "execution_count": 31,
     "metadata": {},
     "output_type": "execute_result"
    }
   ],
   "source": [
    "x = \"i want to say something...\"\n",
    "\n",
    "x.center(50)"
   ]
  },
  {
   "cell_type": "markdown",
   "id": "c99527e5",
   "metadata": {},
   "source": [
    "17)Format"
   ]
  },
  {
   "cell_type": "code",
   "execution_count": 32,
   "id": "5321f383",
   "metadata": {},
   "outputs": [
    {
     "data": {
      "text/plain": [
       "'My name is Vaishnavi and my age is 21'"
      ]
     },
     "execution_count": 32,
     "metadata": {},
     "output_type": "execute_result"
    }
   ],
   "source": [
    "age = 21\n",
    "name = \"Vaishnavi\"\n",
    "\n",
    "x =\"My name is {} and my age is {}\"\n",
    "\n",
    "x.format(name, age)"
   ]
  },
  {
   "cell_type": "code",
   "execution_count": 33,
   "id": "92760ce1",
   "metadata": {},
   "outputs": [
    {
     "data": {
      "text/plain": [
       "'My name is Vaishnavi and my age is 21'"
      ]
     },
     "execution_count": 33,
     "metadata": {},
     "output_type": "execute_result"
    }
   ],
   "source": [
    "age = 21\n",
    "name = \"Vaishnavi\"\n",
    "\n",
    "f\"My name is {name} and my age is {age}\""
   ]
  },
  {
   "cell_type": "markdown",
   "id": "6dff5b95",
   "metadata": {},
   "source": [
    "# Tuple"
   ]
  },
  {
   "cell_type": "markdown",
   "id": "6fff8ade",
   "metadata": {},
   "source": [
    "Operations"
   ]
  },
  {
   "cell_type": "markdown",
   "id": "50858c16",
   "metadata": {},
   "source": [
    "1)Concatenation"
   ]
  },
  {
   "cell_type": "code",
   "execution_count": 34,
   "id": "a6573b58",
   "metadata": {},
   "outputs": [
    {
     "data": {
      "text/plain": [
       "(1, 2, 3, 4, 5, 4, 5, 6)"
      ]
     },
     "execution_count": 34,
     "metadata": {},
     "output_type": "execute_result"
    }
   ],
   "source": [
    "x = (1,2,3,4,5)\n",
    "y = (4,5,6)\n",
    "\n",
    "x+y"
   ]
  },
  {
   "cell_type": "markdown",
   "id": "8645b0e4",
   "metadata": {},
   "source": [
    "2) Replication"
   ]
  },
  {
   "cell_type": "code",
   "execution_count": 35,
   "id": "a430fb51",
   "metadata": {},
   "outputs": [
    {
     "data": {
      "text/plain": [
       "(1, 2, 3, 4, 5, 1, 2, 3, 4, 5, 1, 2, 3, 4, 5)"
      ]
     },
     "execution_count": 35,
     "metadata": {},
     "output_type": "execute_result"
    }
   ],
   "source": [
    "x = (1,2,3,4,5)\n",
    "\n",
    "(x*3)"
   ]
  },
  {
   "cell_type": "markdown",
   "id": "be291f79",
   "metadata": {},
   "source": [
    "3)Indexing"
   ]
  },
  {
   "cell_type": "code",
   "execution_count": 36,
   "id": "20d7c99f",
   "metadata": {},
   "outputs": [
    {
     "data": {
      "text/plain": [
       "5"
      ]
     },
     "execution_count": 36,
     "metadata": {},
     "output_type": "execute_result"
    }
   ],
   "source": [
    "x = (1,2,3,4,5)\n",
    "\n",
    "x[4]"
   ]
  },
  {
   "cell_type": "code",
   "execution_count": 37,
   "id": "3df4e99d",
   "metadata": {},
   "outputs": [
    {
     "data": {
      "text/plain": [
       "1"
      ]
     },
     "execution_count": 37,
     "metadata": {},
     "output_type": "execute_result"
    }
   ],
   "source": [
    "x[0]"
   ]
  },
  {
   "cell_type": "markdown",
   "id": "b93758ff",
   "metadata": {},
   "source": [
    "4)Slicing"
   ]
  },
  {
   "cell_type": "code",
   "execution_count": 38,
   "id": "e27a3881",
   "metadata": {},
   "outputs": [
    {
     "data": {
      "text/plain": [
       "(4, 5)"
      ]
     },
     "execution_count": 38,
     "metadata": {},
     "output_type": "execute_result"
    }
   ],
   "source": [
    "x[3:5]"
   ]
  },
  {
   "cell_type": "code",
   "execution_count": 39,
   "id": "1a7f295f",
   "metadata": {},
   "outputs": [
    {
     "data": {
      "text/plain": [
       "(1, 2, 3, 4, 5)"
      ]
     },
     "execution_count": 39,
     "metadata": {},
     "output_type": "execute_result"
    }
   ],
   "source": [
    "x[:]"
   ]
  },
  {
   "cell_type": "code",
   "execution_count": 40,
   "id": "0773590f",
   "metadata": {},
   "outputs": [
    {
     "data": {
      "text/plain": [
       "(2, 3, 4, 5)"
      ]
     },
     "execution_count": 40,
     "metadata": {},
     "output_type": "execute_result"
    }
   ],
   "source": [
    "x[1:]"
   ]
  },
  {
   "cell_type": "markdown",
   "id": "4dcd44f5",
   "metadata": {},
   "source": [
    "Methods"
   ]
  },
  {
   "cell_type": "markdown",
   "id": "4c4ae378",
   "metadata": {},
   "source": [
    "1)Count"
   ]
  },
  {
   "cell_type": "code",
   "execution_count": 41,
   "id": "c4f5ad86",
   "metadata": {},
   "outputs": [
    {
     "data": {
      "text/plain": [
       "3"
      ]
     },
     "execution_count": 41,
     "metadata": {},
     "output_type": "execute_result"
    }
   ],
   "source": [
    "x = (1,5,4,3,5,5,7,6,7,7,3)\n",
    "\n",
    "x.count(7)"
   ]
  },
  {
   "cell_type": "code",
   "execution_count": 42,
   "id": "1ac25d6c",
   "metadata": {},
   "outputs": [
    {
     "data": {
      "text/plain": [
       "3"
      ]
     },
     "execution_count": 42,
     "metadata": {},
     "output_type": "execute_result"
    }
   ],
   "source": [
    "x.count(5)"
   ]
  },
  {
   "cell_type": "markdown",
   "id": "25600c39",
   "metadata": {},
   "source": [
    "2)Index"
   ]
  },
  {
   "cell_type": "code",
   "execution_count": 43,
   "id": "ca1d6459",
   "metadata": {},
   "outputs": [
    {
     "data": {
      "text/plain": [
       "2"
      ]
     },
     "execution_count": 43,
     "metadata": {},
     "output_type": "execute_result"
    }
   ],
   "source": [
    "x = (1,4,6,7,4,3,2,4)\n",
    "x.index(6)"
   ]
  },
  {
   "cell_type": "code",
   "execution_count": 44,
   "id": "7acdcd7d",
   "metadata": {},
   "outputs": [
    {
     "data": {
      "text/plain": [
       "1"
      ]
     },
     "execution_count": 44,
     "metadata": {},
     "output_type": "execute_result"
    }
   ],
   "source": [
    "x.index(4)"
   ]
  },
  {
   "cell_type": "code",
   "execution_count": 45,
   "id": "322a14a9",
   "metadata": {},
   "outputs": [
    {
     "data": {
      "text/plain": [
       "1"
      ]
     },
     "execution_count": 45,
     "metadata": {},
     "output_type": "execute_result"
    }
   ],
   "source": [
    "x.index(4)"
   ]
  },
  {
   "cell_type": "markdown",
   "id": "ba899fa2",
   "metadata": {},
   "source": [
    "# List"
   ]
  },
  {
   "cell_type": "markdown",
   "id": "dd75280c",
   "metadata": {},
   "source": [
    "1)Concatenation"
   ]
  },
  {
   "cell_type": "code",
   "execution_count": 46,
   "id": "9f818b17",
   "metadata": {},
   "outputs": [
    {
     "data": {
      "text/plain": [
       "[1, 2, 3, 4, 5, 6, 7, 8, 9, 10, 11, 12]"
      ]
     },
     "execution_count": 46,
     "metadata": {},
     "output_type": "execute_result"
    }
   ],
   "source": [
    "x =[1,2,3,4,5,6,7]\n",
    "y= [8,9,10,11,12]\n",
    "\n",
    "x+y"
   ]
  },
  {
   "cell_type": "markdown",
   "id": "b42f5d70",
   "metadata": {},
   "source": [
    "2)Replication"
   ]
  },
  {
   "cell_type": "code",
   "execution_count": 47,
   "id": "32c421b9",
   "metadata": {},
   "outputs": [
    {
     "data": {
      "text/plain": [
       "[1, 2, 3, 4, 5, 6, 7, 1, 2, 3, 4, 5, 6, 7]"
      ]
     },
     "execution_count": 47,
     "metadata": {},
     "output_type": "execute_result"
    }
   ],
   "source": [
    "x =[1,2,3,4,5,6,7]\n",
    "\n",
    "(x*2)"
   ]
  },
  {
   "cell_type": "markdown",
   "id": "cdda0a35",
   "metadata": {},
   "source": [
    "3)Indexing"
   ]
  },
  {
   "cell_type": "code",
   "execution_count": 48,
   "id": "3e9eb6b4",
   "metadata": {},
   "outputs": [
    {
     "data": {
      "text/plain": [
       "6"
      ]
     },
     "execution_count": 48,
     "metadata": {},
     "output_type": "execute_result"
    }
   ],
   "source": [
    "x =[1,2,3,4,5,6,7]\n",
    "\n",
    "x[5]"
   ]
  },
  {
   "cell_type": "code",
   "execution_count": 49,
   "id": "cbed6c42",
   "metadata": {},
   "outputs": [
    {
     "data": {
      "text/plain": [
       "7"
      ]
     },
     "execution_count": 49,
     "metadata": {},
     "output_type": "execute_result"
    }
   ],
   "source": [
    "x[6]"
   ]
  },
  {
   "cell_type": "code",
   "execution_count": 50,
   "id": "e910a01e",
   "metadata": {},
   "outputs": [
    {
     "data": {
      "text/plain": [
       "1"
      ]
     },
     "execution_count": 50,
     "metadata": {},
     "output_type": "execute_result"
    }
   ],
   "source": [
    "x[0]"
   ]
  },
  {
   "cell_type": "markdown",
   "id": "38464c75",
   "metadata": {},
   "source": [
    "4)Slicing"
   ]
  },
  {
   "cell_type": "code",
   "execution_count": 51,
   "id": "a46daa3f",
   "metadata": {},
   "outputs": [
    {
     "data": {
      "text/plain": [
       "[1, 2, 3, 4, 5]"
      ]
     },
     "execution_count": 51,
     "metadata": {},
     "output_type": "execute_result"
    }
   ],
   "source": [
    "x[:5]"
   ]
  },
  {
   "cell_type": "code",
   "execution_count": 52,
   "id": "6881148a",
   "metadata": {},
   "outputs": [
    {
     "data": {
      "text/plain": [
       "[4, 5, 6]"
      ]
     },
     "execution_count": 52,
     "metadata": {},
     "output_type": "execute_result"
    }
   ],
   "source": [
    "x[3:6]"
   ]
  },
  {
   "cell_type": "code",
   "execution_count": 53,
   "id": "12b50bce",
   "metadata": {},
   "outputs": [
    {
     "data": {
      "text/plain": [
       "[1, 2, 3, 4, 5, 6, 7]"
      ]
     },
     "execution_count": 53,
     "metadata": {},
     "output_type": "execute_result"
    }
   ],
   "source": [
    "x[:]"
   ]
  },
  {
   "cell_type": "markdown",
   "id": "82cbf08c",
   "metadata": {},
   "source": [
    "Methods"
   ]
  },
  {
   "cell_type": "markdown",
   "id": "444968fe",
   "metadata": {},
   "source": [
    "1)Append"
   ]
  },
  {
   "cell_type": "code",
   "execution_count": 54,
   "id": "9fa59e06",
   "metadata": {},
   "outputs": [
    {
     "name": "stdout",
     "output_type": "stream",
     "text": [
      "[2, 4, 6, 8, 10, 12, 14]\n"
     ]
    }
   ],
   "source": [
    "x = [2,4,6,8,10,12]\n",
    "x.append(14)\n",
    "print(x)"
   ]
  },
  {
   "cell_type": "markdown",
   "id": "80d2cdca",
   "metadata": {},
   "source": [
    "2)Extend"
   ]
  },
  {
   "cell_type": "code",
   "execution_count": 55,
   "id": "e0d66e3f",
   "metadata": {},
   "outputs": [
    {
     "name": "stdout",
     "output_type": "stream",
     "text": [
      "[2, 4, 6, 8, 10, 12, 14, 16, 18, 20]\n"
     ]
    }
   ],
   "source": [
    "x.extend([16,18,20])\n",
    "print(x)"
   ]
  },
  {
   "cell_type": "markdown",
   "id": "d99d155d",
   "metadata": {},
   "source": [
    "3)Remove"
   ]
  },
  {
   "cell_type": "code",
   "execution_count": 56,
   "id": "82f0c7f6",
   "metadata": {},
   "outputs": [
    {
     "name": "stdout",
     "output_type": "stream",
     "text": [
      "[2, 4, 6, 8, 12, 14, 16, 18, 20]\n"
     ]
    }
   ],
   "source": [
    "x.remove(10)\n",
    "print(x)"
   ]
  },
  {
   "cell_type": "markdown",
   "id": "8c2acb15",
   "metadata": {},
   "source": [
    "4)Pop"
   ]
  },
  {
   "cell_type": "code",
   "execution_count": 57,
   "id": "806eabe3",
   "metadata": {},
   "outputs": [
    {
     "name": "stdout",
     "output_type": "stream",
     "text": [
      "[2, 4, 6, 12, 14, 16, 18, 20]\n"
     ]
    }
   ],
   "source": [
    "x.pop(3)\n",
    "print(x)"
   ]
  },
  {
   "cell_type": "markdown",
   "id": "89092121",
   "metadata": {},
   "source": [
    "5)Count"
   ]
  },
  {
   "cell_type": "code",
   "execution_count": 58,
   "id": "0fe7a677",
   "metadata": {},
   "outputs": [
    {
     "data": {
      "text/plain": [
       "1"
      ]
     },
     "execution_count": 58,
     "metadata": {},
     "output_type": "execute_result"
    }
   ],
   "source": [
    "x.count(12)"
   ]
  },
  {
   "cell_type": "markdown",
   "id": "187fab92",
   "metadata": {},
   "source": [
    "6)Index"
   ]
  },
  {
   "cell_type": "code",
   "execution_count": 59,
   "id": "799b3d02",
   "metadata": {},
   "outputs": [
    {
     "data": {
      "text/plain": [
       "1"
      ]
     },
     "execution_count": 59,
     "metadata": {},
     "output_type": "execute_result"
    }
   ],
   "source": [
    "x.index(4)"
   ]
  },
  {
   "cell_type": "code",
   "execution_count": 60,
   "id": "9cb57d45",
   "metadata": {},
   "outputs": [
    {
     "data": {
      "text/plain": [
       "5"
      ]
     },
     "execution_count": 60,
     "metadata": {},
     "output_type": "execute_result"
    }
   ],
   "source": [
    "x.index(16)"
   ]
  },
  {
   "cell_type": "markdown",
   "id": "75256eda",
   "metadata": {},
   "source": [
    "7)Insert"
   ]
  },
  {
   "cell_type": "code",
   "execution_count": 61,
   "id": "6c237507",
   "metadata": {},
   "outputs": [
    {
     "name": "stdout",
     "output_type": "stream",
     "text": [
      "[2, 4, 6, 8, 12, 14, 16, 18, 20]\n"
     ]
    }
   ],
   "source": [
    "x.insert(3,8)\n",
    "print(x)"
   ]
  },
  {
   "cell_type": "markdown",
   "id": "9bcad15e",
   "metadata": {},
   "source": [
    "8)Reverse"
   ]
  },
  {
   "cell_type": "code",
   "execution_count": 62,
   "id": "c09e6049",
   "metadata": {},
   "outputs": [
    {
     "name": "stdout",
     "output_type": "stream",
     "text": [
      "[20, 18, 16, 14, 12, 8, 6, 4, 2]\n"
     ]
    }
   ],
   "source": [
    "x.reverse()\n",
    "print(x)"
   ]
  },
  {
   "cell_type": "markdown",
   "id": "6ac76d10",
   "metadata": {},
   "source": [
    "9)Sort"
   ]
  },
  {
   "cell_type": "code",
   "execution_count": 63,
   "id": "9188ec99",
   "metadata": {},
   "outputs": [
    {
     "name": "stdout",
     "output_type": "stream",
     "text": [
      "[0, 1, 2, 3, 4, 6, 6, 8]\n"
     ]
    }
   ],
   "source": [
    "x =[3,4,6,2,6,8,1,0]\n",
    "x.sort()\n",
    "print(x)"
   ]
  },
  {
   "cell_type": "markdown",
   "id": "f63ffec9",
   "metadata": {},
   "source": [
    "# Dictionary"
   ]
  },
  {
   "cell_type": "code",
   "execution_count": 64,
   "id": "b773ef60",
   "metadata": {},
   "outputs": [],
   "source": [
    "d ={\"father\" : 50, \"mother\" : 45, \"daughter\": 20, \"son\":25, \"cat\": 1}"
   ]
  },
  {
   "cell_type": "markdown",
   "id": "372579e5",
   "metadata": {},
   "source": [
    "Operation"
   ]
  },
  {
   "cell_type": "markdown",
   "id": "76a2ecba",
   "metadata": {},
   "source": [
    "1)Add"
   ]
  },
  {
   "cell_type": "code",
   "execution_count": 65,
   "id": "cebe80ce",
   "metadata": {},
   "outputs": [
    {
     "name": "stdout",
     "output_type": "stream",
     "text": [
      "{'father': 50, 'mother': 45, 'daughter': 20, 'son': 25, 'cat': 1, 'uncle': 52}\n"
     ]
    }
   ],
   "source": [
    "d[\"uncle\"]=52\n",
    "print(d)"
   ]
  },
  {
   "cell_type": "markdown",
   "id": "b8b65c0f",
   "metadata": {},
   "source": [
    "2)Update"
   ]
  },
  {
   "cell_type": "code",
   "execution_count": 66,
   "id": "33da630d",
   "metadata": {},
   "outputs": [
    {
     "name": "stdout",
     "output_type": "stream",
     "text": [
      "{'father': 48, 'mother': 45, 'daughter': 20, 'son': 25, 'cat': 1, 'uncle': 52}\n"
     ]
    }
   ],
   "source": [
    "d[\"father\"]=48\n",
    "print(d)"
   ]
  },
  {
   "cell_type": "markdown",
   "id": "0c2055ee",
   "metadata": {},
   "source": [
    "3)Retrieve"
   ]
  },
  {
   "cell_type": "code",
   "execution_count": 67,
   "id": "6063e15f",
   "metadata": {},
   "outputs": [
    {
     "data": {
      "text/plain": [
       "20"
      ]
     },
     "execution_count": 67,
     "metadata": {},
     "output_type": "execute_result"
    }
   ],
   "source": [
    "d[\"daughter\"]"
   ]
  },
  {
   "cell_type": "markdown",
   "id": "001ebb4d",
   "metadata": {},
   "source": [
    "Method"
   ]
  },
  {
   "cell_type": "markdown",
   "id": "9bde6dcd",
   "metadata": {},
   "source": [
    "1)Key"
   ]
  },
  {
   "cell_type": "code",
   "execution_count": 68,
   "id": "1d629329",
   "metadata": {},
   "outputs": [
    {
     "data": {
      "text/plain": [
       "dict_keys(['father', 'mother', 'daughter', 'son', 'cat', 'uncle'])"
      ]
     },
     "execution_count": 68,
     "metadata": {},
     "output_type": "execute_result"
    }
   ],
   "source": [
    "d.keys()"
   ]
  },
  {
   "cell_type": "markdown",
   "id": "b72d6701",
   "metadata": {},
   "source": [
    "2)Values"
   ]
  },
  {
   "cell_type": "code",
   "execution_count": 69,
   "id": "16890a63",
   "metadata": {},
   "outputs": [
    {
     "data": {
      "text/plain": [
       "dict_values([48, 45, 20, 25, 1, 52])"
      ]
     },
     "execution_count": 69,
     "metadata": {},
     "output_type": "execute_result"
    }
   ],
   "source": [
    "d.values()"
   ]
  },
  {
   "cell_type": "markdown",
   "id": "9307e911",
   "metadata": {},
   "source": [
    "3)Update"
   ]
  },
  {
   "cell_type": "code",
   "execution_count": 70,
   "id": "84fc6ade",
   "metadata": {},
   "outputs": [
    {
     "name": "stdout",
     "output_type": "stream",
     "text": [
      "{'father': 48, 'mother': 45, 'daughter': 20, 'son': 25, 'cat': 1, 'uncle': 52, 'a': 10, 'b': 20, 'c': 30}\n"
     ]
    }
   ],
   "source": [
    "new = {\"a\":10, \"b\": 20, \"c\":30}\n",
    "d.update(new)\n",
    "print(d)"
   ]
  },
  {
   "cell_type": "markdown",
   "id": "e33be754",
   "metadata": {},
   "source": [
    "4)Item"
   ]
  },
  {
   "cell_type": "code",
   "execution_count": 71,
   "id": "4a761ea6",
   "metadata": {},
   "outputs": [
    {
     "data": {
      "text/plain": [
       "dict_items([('father', 48), ('mother', 45), ('daughter', 20), ('son', 25), ('cat', 1), ('uncle', 52), ('a', 10), ('b', 20), ('c', 30)])"
      ]
     },
     "execution_count": 71,
     "metadata": {},
     "output_type": "execute_result"
    }
   ],
   "source": [
    "d.items()"
   ]
  },
  {
   "cell_type": "markdown",
   "id": "ab79999e",
   "metadata": {},
   "source": [
    "5)Pop"
   ]
  },
  {
   "cell_type": "code",
   "execution_count": 72,
   "id": "a9a7d3bb",
   "metadata": {},
   "outputs": [
    {
     "name": "stdout",
     "output_type": "stream",
     "text": [
      "{'father': 48, 'mother': 45, 'daughter': 20, 'son': 25, 'cat': 1, 'a': 10, 'b': 20, 'c': 30}\n"
     ]
    }
   ],
   "source": [
    "d.pop(\"uncle\", 52)\n",
    "print(d)"
   ]
  },
  {
   "cell_type": "markdown",
   "id": "dddd283e",
   "metadata": {},
   "source": [
    "6)Get"
   ]
  },
  {
   "cell_type": "code",
   "execution_count": 73,
   "id": "547ff870",
   "metadata": {},
   "outputs": [
    {
     "data": {
      "text/plain": [
       "25"
      ]
     },
     "execution_count": 73,
     "metadata": {},
     "output_type": "execute_result"
    }
   ],
   "source": [
    "d.get(\"son\")"
   ]
  },
  {
   "cell_type": "markdown",
   "id": "13011e7d",
   "metadata": {},
   "source": [
    "7)Set Default"
   ]
  },
  {
   "cell_type": "code",
   "execution_count": 74,
   "id": "f099598b",
   "metadata": {},
   "outputs": [
    {
     "name": "stdout",
     "output_type": "stream",
     "text": [
      "{'father': 48, 'mother': 45, 'daughter': 20, 'son': 25, 'cat': 1, 'a': 10, 'b': 20, 'c': 30, 'aunt': 48}\n"
     ]
    }
   ],
   "source": [
    "d.setdefault(\"aunt\",48)\n",
    "print(d)"
   ]
  },
  {
   "cell_type": "markdown",
   "id": "4155f155",
   "metadata": {},
   "source": [
    "# Set"
   ]
  },
  {
   "cell_type": "markdown",
   "id": "2eb990ad",
   "metadata": {},
   "source": [
    "Operation"
   ]
  },
  {
   "cell_type": "markdown",
   "id": "145f6097",
   "metadata": {},
   "source": [
    "1)Union(|)"
   ]
  },
  {
   "cell_type": "code",
   "execution_count": 75,
   "id": "dd3a040a",
   "metadata": {},
   "outputs": [
    {
     "data": {
      "text/plain": [
       "{1, 2, 4, 5, 6, 7, 8}"
      ]
     },
     "execution_count": 75,
     "metadata": {},
     "output_type": "execute_result"
    }
   ],
   "source": [
    "x = {1,2,4,5,7}\n",
    "y = {7,8,4,6,2}\n",
    "\n",
    "x|y"
   ]
  },
  {
   "cell_type": "markdown",
   "id": "f8e3b888",
   "metadata": {},
   "source": [
    "2)Intersection(&)"
   ]
  },
  {
   "cell_type": "code",
   "execution_count": 76,
   "id": "b9383c98",
   "metadata": {},
   "outputs": [
    {
     "data": {
      "text/plain": [
       "{2, 4, 7}"
      ]
     },
     "execution_count": 76,
     "metadata": {},
     "output_type": "execute_result"
    }
   ],
   "source": [
    "x = {1,2,4,5,7}\n",
    "y = {7,8,4,6,2}\n",
    "\n",
    "x&y"
   ]
  },
  {
   "cell_type": "markdown",
   "id": "5fdf018a",
   "metadata": {},
   "source": [
    "3)Difference(-)"
   ]
  },
  {
   "cell_type": "code",
   "execution_count": 77,
   "id": "34c11e26",
   "metadata": {},
   "outputs": [
    {
     "data": {
      "text/plain": [
       "{1, 5}"
      ]
     },
     "execution_count": 77,
     "metadata": {},
     "output_type": "execute_result"
    }
   ],
   "source": [
    "x = {1,2,4,5,7}\n",
    "y = {7,8,4,6,2}\n",
    "\n",
    "x-y"
   ]
  },
  {
   "cell_type": "code",
   "execution_count": 78,
   "id": "66fee03e",
   "metadata": {},
   "outputs": [
    {
     "data": {
      "text/plain": [
       "{6, 8}"
      ]
     },
     "execution_count": 78,
     "metadata": {},
     "output_type": "execute_result"
    }
   ],
   "source": [
    "y-x"
   ]
  },
  {
   "cell_type": "markdown",
   "id": "a912509b",
   "metadata": {},
   "source": [
    "Methods"
   ]
  },
  {
   "cell_type": "markdown",
   "id": "cbfa947e",
   "metadata": {},
   "source": [
    "1)Add"
   ]
  },
  {
   "cell_type": "code",
   "execution_count": 79,
   "id": "fbc62d8f",
   "metadata": {},
   "outputs": [
    {
     "name": "stdout",
     "output_type": "stream",
     "text": [
      "{0, 1, 2, 4, 5, 7}\n"
     ]
    }
   ],
   "source": [
    "x = {1,2,4,5,7}\n",
    "\n",
    "x.add(0)\n",
    "print(x)"
   ]
  },
  {
   "cell_type": "markdown",
   "id": "a191a8b1",
   "metadata": {},
   "source": [
    "2)Remove"
   ]
  },
  {
   "cell_type": "code",
   "execution_count": 80,
   "id": "19b37a14",
   "metadata": {},
   "outputs": [
    {
     "name": "stdout",
     "output_type": "stream",
     "text": [
      "{0, 1, 2, 5, 7}\n"
     ]
    }
   ],
   "source": [
    "x.remove(4)\n",
    "\n",
    "print(x)"
   ]
  },
  {
   "cell_type": "markdown",
   "id": "3b3f00c6",
   "metadata": {},
   "source": [
    "3)Pop"
   ]
  },
  {
   "cell_type": "code",
   "execution_count": 81,
   "id": "70ab089a",
   "metadata": {},
   "outputs": [
    {
     "name": "stdout",
     "output_type": "stream",
     "text": [
      "{1, 2, 5, 7}\n"
     ]
    }
   ],
   "source": [
    "x.pop()\n",
    "print(x)"
   ]
  }
 ],
 "metadata": {
  "kernelspec": {
   "display_name": "Python 3 (ipykernel)",
   "language": "python",
   "name": "python3"
  },
  "language_info": {
   "codemirror_mode": {
    "name": "ipython",
    "version": 3
   },
   "file_extension": ".py",
   "mimetype": "text/x-python",
   "name": "python",
   "nbconvert_exporter": "python",
   "pygments_lexer": "ipython3",
   "version": "3.9.7"
  }
 },
 "nbformat": 4,
 "nbformat_minor": 5
}
